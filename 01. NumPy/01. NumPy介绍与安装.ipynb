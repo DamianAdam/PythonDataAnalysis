{
 "cells": [
  {
   "cell_type": "markdown",
   "id": "20fd9fab",
   "metadata": {},
   "source": [
    "# 01. NumPy介绍"
   ]
  },
  {
   "cell_type": "markdown",
   "id": "fb5974e7",
   "metadata": {},
   "source": [
    "## 1.1 什么是NumPy"
   ]
  },
  {
   "cell_type": "markdown",
   "id": "a7a45da6",
   "metadata": {},
   "source": [
    "- NumPy是用Python进行科学计算的基础软件包，提供多维数组对象，各种派生对象（如掩码数组和矩阵），以及用于数组快速操作的各种API，有包括数学、逻辑、形状操作、排序、选择、输入输出、离散傅立叶变换、基本线性代数，基本统计运算和随机模拟等等。\n",
    "- NumPy与Pandas、Matplotlib一起被誉为Python数据分析三剑客。\n",
    "- 除了明显的科学用途外，NumPy还可以用作通用数据的高效多维容器，可以定义任意数据类型，这使得NumPy能够无缝快速地与各种数据库集成。\n",
    "- 总的来说，NumPy作为科学计算的基础软件包，它包括：\n",
    "    - 功能强大的N维数组对象。\n",
    "    - 精密广播功能函数。\n",
    "    - 集成C/C+和Fortran代码的工具。\n",
    "    - 强大的线性代数、傅立叶变换和随机数功能。"
   ]
  },
  {
   "cell_type": "markdown",
   "id": "15567135",
   "metadata": {},
   "source": [
    "## 1.2 NumPy中的两大核心利器"
   ]
  },
  {
   "cell_type": "markdown",
   "id": "8cff3293",
   "metadata": {},
   "source": [
    "- N维数组：NumPy中最重要的一个特点是其N维数组对象ndarray。\n",
    "    - ndarray是用于存放同类型元素的多维数组，其中的每个元素在内存中都有相同存储大小的区域。\n",
    "- 索引和切片：ndarray对象的内容可以通过索引或切片来访问和修改。"
   ]
  },
  {
   "cell_type": "markdown",
   "id": "be65f994",
   "metadata": {},
   "source": [
    "## 1.3 NumPy数组与Python原生数组的区别"
   ]
  },
  {
   "cell_type": "markdown",
   "id": "4eb4ed9e",
   "metadata": {},
   "source": [
    "- Python中最常用的数据容器是列表list，但实际上原生Python也是有数组Array的。\n",
    "- NumPy数组和原生Python Array之间有几个重要的区别：\n",
    "    - NumPy数组在创建时具有固定的大小，与Python的原生数组对象（可以动态增长）不同。更改ndarray的大小将创建一个新数组并删除原来的数组。\n",
    "    - NumPy数组中的元素都需要具有相同的数据类型，因此在内存中的大小相同。 \n",
    "        - 例外情况：Python的原生数组里包含了NumPy的对象的时候，这种情况下就允许不同大小元素的数组。\n",
    "    - NumPy数组有助于对大量数据进行高级数学和其他类型的操作。通常，这些操作的执行效率更高，比使用Python原生数组的代码更少。\n",
    "    - 越来越多的基于Python的科学和数学软件包使用NumPy数组；虽然这些工具通常都支持Python的原生数组作为参数，但它们在处理之前会还是会将输入的数组转换为NumPy的数组，而且也通常输出为NumPy数组。换句话说，为了高效地使用当今科学/数学基于Python的工具（大部分的科学计算工具），你只知道如何使用Python的原生数组类型是不够的，还需要知道如何使用NumPy数组。"
   ]
  },
  {
   "cell_type": "markdown",
   "id": "e00116ad",
   "metadata": {},
   "source": [
    "## 1.4  NumPy的两个相关文档"
   ]
  },
  {
   "cell_type": "markdown",
   "id": "ac55c78f",
   "metadata": {},
   "source": [
    "- 官方英文文档：[https://numpy.org/](https://numpy.org/)\n",
    "- 官方中文文档：[https://numpy.org.cn/](https://numpy.org.cn/)"
   ]
  },
  {
   "cell_type": "markdown",
   "id": "1276273f",
   "metadata": {},
   "source": [
    "# 02. NumPy安装与导入"
   ]
  },
  {
   "cell_type": "markdown",
   "id": "a2844c53",
   "metadata": {},
   "source": [
    "- Anaconda中默认带有NumPy库，因此Anaconda环境无需再次手动下载NumPy，直接导入即可。\n",
    "- 普通Python环境中可以通过pip命令来安装NumPy。\n",
    "```pip\n",
    "pip install numpy\n",
    "```"
   ]
  },
  {
   "cell_type": "markdown",
   "id": "2c30ab1c",
   "metadata": {},
   "source": [
    "- NumPy在使用前需要导入，并且按照习惯还会取别名为np。"
   ]
  },
  {
   "cell_type": "code",
   "execution_count": 4,
   "id": "177c8326",
   "metadata": {},
   "outputs": [],
   "source": [
    "import numpy as np"
   ]
  },
  {
   "cell_type": "markdown",
   "id": "d97d273c",
   "metadata": {},
   "source": [
    "- NumPy初体验："
   ]
  },
  {
   "cell_type": "code",
   "execution_count": 5,
   "id": "a5fbc83b",
   "metadata": {},
   "outputs": [
    {
     "data": {
      "text/plain": [
       "array([[1., 0., 0., 0.],\n",
       "       [0., 1., 0., 0.],\n",
       "       [0., 0., 1., 0.],\n",
       "       [0., 0., 0., 1.]])"
      ]
     },
     "execution_count": 5,
     "metadata": {},
     "output_type": "execute_result"
    }
   ],
   "source": [
    "np.eye(4)  # 生成一个4行4列的单位矩阵。"
   ]
  }
 ],
 "metadata": {
  "kernelspec": {
   "display_name": "Python 3 (ipykernel)",
   "language": "python",
   "name": "python3"
  },
  "language_info": {
   "codemirror_mode": {
    "name": "ipython",
    "version": 3
   },
   "file_extension": ".py",
   "mimetype": "text/x-python",
   "name": "python",
   "nbconvert_exporter": "python",
   "pygments_lexer": "ipython3",
   "version": "3.9.12"
  }
 },
 "nbformat": 4,
 "nbformat_minor": 5
}
